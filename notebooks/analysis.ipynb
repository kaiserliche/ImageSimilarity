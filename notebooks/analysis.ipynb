{
 "cells": [
  {
   "cell_type": "code",
   "execution_count": 4,
   "metadata": {},
   "outputs": [],
   "source": [
    "import pandas as pd\n",
    "import numpy as np\n",
    "import matplotlib.pyplot as plt"
   ]
  },
  {
   "cell_type": "code",
   "execution_count": 5,
   "metadata": {},
   "outputs": [],
   "source": [
    "dataPath = '../data/images'\n",
    "metadataPath = '../data/styles.csv'"
   ]
  },
  {
   "cell_type": "code",
   "execution_count": 6,
   "metadata": {},
   "outputs": [],
   "source": [
    "df = pd.read_csv(metadataPath, on_bad_lines='skip')"
   ]
  },
  {
   "cell_type": "code",
   "execution_count": 7,
   "metadata": {},
   "outputs": [
    {
     "name": "stdout",
     "output_type": "stream",
     "text": [
      "<class 'pandas.core.frame.DataFrame'>\n",
      "RangeIndex: 44424 entries, 0 to 44423\n",
      "Data columns (total 10 columns):\n",
      " #   Column              Non-Null Count  Dtype  \n",
      "---  ------              --------------  -----  \n",
      " 0   id                  44424 non-null  int64  \n",
      " 1   gender              44424 non-null  object \n",
      " 2   masterCategory      44424 non-null  object \n",
      " 3   subCategory         44424 non-null  object \n",
      " 4   articleType         44424 non-null  object \n",
      " 5   baseColour          44409 non-null  object \n",
      " 6   season              44403 non-null  object \n",
      " 7   year                44423 non-null  float64\n",
      " 8   usage               44107 non-null  object \n",
      " 9   productDisplayName  44417 non-null  object \n",
      "dtypes: float64(1), int64(1), object(8)\n",
      "memory usage: 3.4+ MB\n"
     ]
    }
   ],
   "source": [
    "df.info()"
   ]
  },
  {
   "cell_type": "code",
   "execution_count": 8,
   "metadata": {},
   "outputs": [
    {
     "data": {
      "text/html": [
       "<div>\n",
       "<style scoped>\n",
       "    .dataframe tbody tr th:only-of-type {\n",
       "        vertical-align: middle;\n",
       "    }\n",
       "\n",
       "    .dataframe tbody tr th {\n",
       "        vertical-align: top;\n",
       "    }\n",
       "\n",
       "    .dataframe thead th {\n",
       "        text-align: right;\n",
       "    }\n",
       "</style>\n",
       "<table border=\"1\" class=\"dataframe\">\n",
       "  <thead>\n",
       "    <tr style=\"text-align: right;\">\n",
       "      <th></th>\n",
       "      <th>id</th>\n",
       "      <th>gender</th>\n",
       "      <th>masterCategory</th>\n",
       "      <th>subCategory</th>\n",
       "      <th>articleType</th>\n",
       "      <th>baseColour</th>\n",
       "      <th>season</th>\n",
       "      <th>year</th>\n",
       "      <th>usage</th>\n",
       "      <th>productDisplayName</th>\n",
       "    </tr>\n",
       "  </thead>\n",
       "  <tbody>\n",
       "    <tr>\n",
       "      <th>0</th>\n",
       "      <td>15970</td>\n",
       "      <td>Men</td>\n",
       "      <td>Apparel</td>\n",
       "      <td>Topwear</td>\n",
       "      <td>Shirts</td>\n",
       "      <td>Navy Blue</td>\n",
       "      <td>Fall</td>\n",
       "      <td>2011.0</td>\n",
       "      <td>Casual</td>\n",
       "      <td>Turtle Check Men Navy Blue Shirt</td>\n",
       "    </tr>\n",
       "    <tr>\n",
       "      <th>1</th>\n",
       "      <td>39386</td>\n",
       "      <td>Men</td>\n",
       "      <td>Apparel</td>\n",
       "      <td>Bottomwear</td>\n",
       "      <td>Jeans</td>\n",
       "      <td>Blue</td>\n",
       "      <td>Summer</td>\n",
       "      <td>2012.0</td>\n",
       "      <td>Casual</td>\n",
       "      <td>Peter England Men Party Blue Jeans</td>\n",
       "    </tr>\n",
       "    <tr>\n",
       "      <th>2</th>\n",
       "      <td>59263</td>\n",
       "      <td>Women</td>\n",
       "      <td>Accessories</td>\n",
       "      <td>Watches</td>\n",
       "      <td>Watches</td>\n",
       "      <td>Silver</td>\n",
       "      <td>Winter</td>\n",
       "      <td>2016.0</td>\n",
       "      <td>Casual</td>\n",
       "      <td>Titan Women Silver Watch</td>\n",
       "    </tr>\n",
       "    <tr>\n",
       "      <th>3</th>\n",
       "      <td>21379</td>\n",
       "      <td>Men</td>\n",
       "      <td>Apparel</td>\n",
       "      <td>Bottomwear</td>\n",
       "      <td>Track Pants</td>\n",
       "      <td>Black</td>\n",
       "      <td>Fall</td>\n",
       "      <td>2011.0</td>\n",
       "      <td>Casual</td>\n",
       "      <td>Manchester United Men Solid Black Track Pants</td>\n",
       "    </tr>\n",
       "    <tr>\n",
       "      <th>4</th>\n",
       "      <td>53759</td>\n",
       "      <td>Men</td>\n",
       "      <td>Apparel</td>\n",
       "      <td>Topwear</td>\n",
       "      <td>Tshirts</td>\n",
       "      <td>Grey</td>\n",
       "      <td>Summer</td>\n",
       "      <td>2012.0</td>\n",
       "      <td>Casual</td>\n",
       "      <td>Puma Men Grey T-shirt</td>\n",
       "    </tr>\n",
       "    <tr>\n",
       "      <th>...</th>\n",
       "      <td>...</td>\n",
       "      <td>...</td>\n",
       "      <td>...</td>\n",
       "      <td>...</td>\n",
       "      <td>...</td>\n",
       "      <td>...</td>\n",
       "      <td>...</td>\n",
       "      <td>...</td>\n",
       "      <td>...</td>\n",
       "      <td>...</td>\n",
       "    </tr>\n",
       "    <tr>\n",
       "      <th>44419</th>\n",
       "      <td>17036</td>\n",
       "      <td>Men</td>\n",
       "      <td>Footwear</td>\n",
       "      <td>Shoes</td>\n",
       "      <td>Casual Shoes</td>\n",
       "      <td>White</td>\n",
       "      <td>Summer</td>\n",
       "      <td>2013.0</td>\n",
       "      <td>Casual</td>\n",
       "      <td>Gas Men Caddy Casual Shoe</td>\n",
       "    </tr>\n",
       "    <tr>\n",
       "      <th>44420</th>\n",
       "      <td>6461</td>\n",
       "      <td>Men</td>\n",
       "      <td>Footwear</td>\n",
       "      <td>Flip Flops</td>\n",
       "      <td>Flip Flops</td>\n",
       "      <td>Red</td>\n",
       "      <td>Summer</td>\n",
       "      <td>2011.0</td>\n",
       "      <td>Casual</td>\n",
       "      <td>Lotto Men's Soccer Track Flip Flop</td>\n",
       "    </tr>\n",
       "    <tr>\n",
       "      <th>44421</th>\n",
       "      <td>18842</td>\n",
       "      <td>Men</td>\n",
       "      <td>Apparel</td>\n",
       "      <td>Topwear</td>\n",
       "      <td>Tshirts</td>\n",
       "      <td>Blue</td>\n",
       "      <td>Fall</td>\n",
       "      <td>2011.0</td>\n",
       "      <td>Casual</td>\n",
       "      <td>Puma Men Graphic Stellar Blue Tshirt</td>\n",
       "    </tr>\n",
       "    <tr>\n",
       "      <th>44422</th>\n",
       "      <td>46694</td>\n",
       "      <td>Women</td>\n",
       "      <td>Personal Care</td>\n",
       "      <td>Fragrance</td>\n",
       "      <td>Perfume and Body Mist</td>\n",
       "      <td>Blue</td>\n",
       "      <td>Spring</td>\n",
       "      <td>2017.0</td>\n",
       "      <td>Casual</td>\n",
       "      <td>Rasasi Women Blue Lady Perfume</td>\n",
       "    </tr>\n",
       "    <tr>\n",
       "      <th>44423</th>\n",
       "      <td>51623</td>\n",
       "      <td>Women</td>\n",
       "      <td>Accessories</td>\n",
       "      <td>Watches</td>\n",
       "      <td>Watches</td>\n",
       "      <td>Pink</td>\n",
       "      <td>Winter</td>\n",
       "      <td>2016.0</td>\n",
       "      <td>Casual</td>\n",
       "      <td>Fossil Women Pink Dial Chronograph Watch ES3050</td>\n",
       "    </tr>\n",
       "  </tbody>\n",
       "</table>\n",
       "<p>44077 rows × 10 columns</p>\n",
       "</div>"
      ],
      "text/plain": [
       "          id gender masterCategory subCategory            articleType  \\\n",
       "0      15970    Men        Apparel     Topwear                 Shirts   \n",
       "1      39386    Men        Apparel  Bottomwear                  Jeans   \n",
       "2      59263  Women    Accessories     Watches                Watches   \n",
       "3      21379    Men        Apparel  Bottomwear            Track Pants   \n",
       "4      53759    Men        Apparel     Topwear                Tshirts   \n",
       "...      ...    ...            ...         ...                    ...   \n",
       "44419  17036    Men       Footwear       Shoes           Casual Shoes   \n",
       "44420   6461    Men       Footwear  Flip Flops             Flip Flops   \n",
       "44421  18842    Men        Apparel     Topwear                Tshirts   \n",
       "44422  46694  Women  Personal Care   Fragrance  Perfume and Body Mist   \n",
       "44423  51623  Women    Accessories     Watches                Watches   \n",
       "\n",
       "      baseColour  season    year   usage  \\\n",
       "0      Navy Blue    Fall  2011.0  Casual   \n",
       "1           Blue  Summer  2012.0  Casual   \n",
       "2         Silver  Winter  2016.0  Casual   \n",
       "3          Black    Fall  2011.0  Casual   \n",
       "4           Grey  Summer  2012.0  Casual   \n",
       "...          ...     ...     ...     ...   \n",
       "44419      White  Summer  2013.0  Casual   \n",
       "44420        Red  Summer  2011.0  Casual   \n",
       "44421       Blue    Fall  2011.0  Casual   \n",
       "44422       Blue  Spring  2017.0  Casual   \n",
       "44423       Pink  Winter  2016.0  Casual   \n",
       "\n",
       "                                    productDisplayName  \n",
       "0                     Turtle Check Men Navy Blue Shirt  \n",
       "1                   Peter England Men Party Blue Jeans  \n",
       "2                             Titan Women Silver Watch  \n",
       "3        Manchester United Men Solid Black Track Pants  \n",
       "4                                Puma Men Grey T-shirt  \n",
       "...                                                ...  \n",
       "44419                        Gas Men Caddy Casual Shoe  \n",
       "44420               Lotto Men's Soccer Track Flip Flop  \n",
       "44421             Puma Men Graphic Stellar Blue Tshirt  \n",
       "44422                   Rasasi Women Blue Lady Perfume  \n",
       "44423  Fossil Women Pink Dial Chronograph Watch ES3050  \n",
       "\n",
       "[44077 rows x 10 columns]"
      ]
     },
     "execution_count": 8,
     "metadata": {},
     "output_type": "execute_result"
    }
   ],
   "source": [
    "df.dropna()"
   ]
  },
  {
   "cell_type": "code",
   "execution_count": 9,
   "metadata": {},
   "outputs": [
    {
     "data": {
      "text/plain": [
       "Index(['id', 'gender', 'masterCategory', 'subCategory', 'articleType',\n",
       "       'baseColour', 'season', 'year', 'usage', 'productDisplayName'],\n",
       "      dtype='object')"
      ]
     },
     "execution_count": 9,
     "metadata": {},
     "output_type": "execute_result"
    }
   ],
   "source": [
    "df.columns"
   ]
  },
  {
   "cell_type": "markdown",
   "metadata": {},
   "source": [
    "UNIVARIATE ANALYSIS"
   ]
  },
  {
   "cell_type": "code",
   "execution_count": 10,
   "metadata": {},
   "outputs": [
    {
     "data": {
      "text/plain": [
       "masterCategory\n",
       "Apparel           21397\n",
       "Accessories       11274\n",
       "Footwear           9219\n",
       "Personal Care      2403\n",
       "Free Items          105\n",
       "Sporting Goods       25\n",
       "Home                  1\n",
       "Name: count, dtype: int64"
      ]
     },
     "execution_count": 10,
     "metadata": {},
     "output_type": "execute_result"
    }
   ],
   "source": [
    "df['masterCategory'].value_counts()"
   ]
  },
  {
   "cell_type": "code",
   "execution_count": 11,
   "metadata": {},
   "outputs": [
    {
     "data": {
      "text/plain": [
       "subCategory\n",
       "Topwear                     15402\n",
       "Shoes                        7343\n",
       "Bags                         3055\n",
       "Bottomwear                   2694\n",
       "Watches                      2542\n",
       "Innerwear                    1808\n",
       "Jewellery                    1079\n",
       "Eyewear                      1073\n",
       "Fragrance                    1011\n",
       "Sandal                        963\n",
       "Wallets                       933\n",
       "Flip Flops                    913\n",
       "Belts                         811\n",
       "Socks                         698\n",
       "Lips                          527\n",
       "Dress                         478\n",
       "Loungewear and Nightwear      470\n",
       "Saree                         427\n",
       "Nails                         329\n",
       "Makeup                        307\n",
       "Headwear                      293\n",
       "Ties                          258\n",
       "Accessories                   129\n",
       "Scarves                       118\n",
       "Cufflinks                     108\n",
       "Apparel Set                   106\n",
       "Free Gifts                    104\n",
       "Stoles                         90\n",
       "Skin Care                      77\n",
       "Skin                           69\n",
       "Eyes                           43\n",
       "Mufflers                       38\n",
       "Shoe Accessories               24\n",
       "Sports Equipment               21\n",
       "Gloves                         20\n",
       "Hair                           19\n",
       "Bath and Body                  12\n",
       "Water Bottle                    7\n",
       "Perfumes                        6\n",
       "Umbrellas                       6\n",
       "Beauty Accessories              4\n",
       "Wristbands                      4\n",
       "Sports Accessories              3\n",
       "Home Furnishing                 1\n",
       "Vouchers                        1\n",
       "Name: count, dtype: int64"
      ]
     },
     "execution_count": 11,
     "metadata": {},
     "output_type": "execute_result"
    }
   ],
   "source": [
    "df['subCategory'].value_counts()"
   ]
  },
  {
   "cell_type": "code",
   "execution_count": 12,
   "metadata": {},
   "outputs": [
    {
     "data": {
      "text/plain": [
       "articleType\n",
       "Tshirts                7067\n",
       "Shirts                 3217\n",
       "Casual Shoes           2845\n",
       "Watches                2542\n",
       "Sports Shoes           2036\n",
       "                       ... \n",
       "Cushion Covers            1\n",
       "Mens Grooming Kit         1\n",
       "Body Wash and Scrub       1\n",
       "Suits                     1\n",
       "Ipad                      1\n",
       "Name: count, Length: 143, dtype: int64"
      ]
     },
     "execution_count": 12,
     "metadata": {},
     "output_type": "execute_result"
    }
   ],
   "source": [
    "df['articleType'].value_counts()"
   ]
  },
  {
   "cell_type": "code",
   "execution_count": 13,
   "metadata": {},
   "outputs": [
    {
     "data": {
      "text/plain": [
       "season\n",
       "Summer    21472\n",
       "Fall      11431\n",
       "Winter     8517\n",
       "Spring     2983\n",
       "Name: count, dtype: int64"
      ]
     },
     "execution_count": 13,
     "metadata": {},
     "output_type": "execute_result"
    }
   ],
   "source": [
    "df['season'].value_counts()"
   ]
  },
  {
   "cell_type": "code",
   "execution_count": 14,
   "metadata": {},
   "outputs": [],
   "source": [
    "#### Homogenizing the data on the basis of the articleType \n",
    "\n",
    "# df['articleType'].value_counts().quantile([0.75])\n",
    "\n",
    "percentile = 260"
   ]
  },
  {
   "cell_type": "code",
   "execution_count": 15,
   "metadata": {},
   "outputs": [],
   "source": [
    "workingdf = df[df.groupby('articleType')['articleType'].transform('count')> percentile]"
   ]
  },
  {
   "cell_type": "code",
   "execution_count": 16,
   "metadata": {},
   "outputs": [
    {
     "data": {
      "text/plain": [
       "<Axes: xlabel='articleType'>"
      ]
     },
     "execution_count": 16,
     "metadata": {},
     "output_type": "execute_result"
    },
    {
     "data": {
      "image/png": "[encoded data removed]",
      "text/plain": [
       "<Figure size 640x480 with 1 Axes>"
      ]
     },
     "metadata": {},
     "output_type": "display_data"
    }
   ],
   "source": [
    "workingdf['articleType'].value_counts().plot(kind = 'bar')"
   ]
  },
  {
   "cell_type": "code",
   "execution_count": 17,
   "metadata": {},
   "outputs": [
    {
     "name": "stderr",
     "output_type": "stream",
     "text": [
      "/tmp/ipykernel_82575/2528409570.py:1: DeprecationWarning: DataFrameGroupBy.apply operated on the grouping columns. This behavior is deprecated, and in a future version of pandas the grouping columns will be excluded from the operation. Either pass `include_groups=False` to exclude the groupings or explicitly select the grouping columns after groupby to silence this warning.\n",
      "  workingdf = workingdf.groupby('articleType').apply(lambda x : x.sample(percentile)).reset_index(drop = True)\n"
     ]
    }
   ],
   "source": [
    "workingdf = workingdf.groupby('articleType').apply(lambda x : x.sample(percentile)).reset_index(drop = True)"
   ]
  },
  {
   "cell_type": "code",
   "execution_count": 18,
   "metadata": {},
   "outputs": [
    {
     "data": {
      "text/plain": [
       "<Axes: xlabel='articleType'>"
      ]
     },
     "execution_count": 18,
     "metadata": {},
     "output_type": "execute_result"
    },
    {
     "data": {
      "image/png": "[encoded data removed]",
      "text/plain": [
       "<Figure size 640x480 with 1 Axes>"
      ]
     },
     "metadata": {},
     "output_type": "display_data"
    }
   ],
   "source": [
    "workingdf['articleType'].value_counts().plot(kind = 'bar')"
   ]
  },
  {
   "cell_type": "code",
   "execution_count": 19,
   "metadata": {},
   "outputs": [
    {
     "name": "stdout",
     "output_type": "stream",
     "text": [
      "id\n",
      "10312    1\n",
      "44988    1\n",
      "45249    1\n",
      "29450    1\n",
      "51523    1\n",
      "        ..\n",
      "5252     1\n",
      "6553     1\n",
      "37693    1\n",
      "4689     1\n",
      "7075     1\n",
      "Name: count, Length: 9360, dtype: int64\n",
      "gender\n",
      "Women     4357\n",
      "Men       4238\n",
      "Unisex     562\n",
      "Girls      110\n",
      "Boys        93\n",
      "Name: count, dtype: int64\n",
      "masterCategory\n",
      "Apparel          3640\n",
      "Accessories      2853\n",
      "Footwear         1820\n",
      "Personal Care    1039\n",
      "Free Items          8\n",
      "Name: count, dtype: int64\n",
      "subCategory\n",
      "Topwear                     1562\n",
      "Shoes                       1300\n",
      "Bottomwear                  1038\n",
      "Bags                         778\n",
      "Innerwear                    520\n",
      "Fragrance                    516\n",
      "Belts                        260\n",
      "Watches                      260\n",
      "Headwear                     260\n",
      "Flip Flops                   260\n",
      "Jewellery                    260\n",
      "Nails                        260\n",
      "Lips                         260\n",
      "Saree                        260\n",
      "Sandal                       260\n",
      "Socks                        260\n",
      "Eyewear                      260\n",
      "Wallets                      259\n",
      "Dress                        258\n",
      "Ties                         255\n",
      "Free Gifts                     8\n",
      "Perfumes                       4\n",
      "Loungewear and Nightwear       2\n",
      "Name: count, dtype: int64\n",
      "articleType\n",
      "Backpacks                260\n",
      "Belts                    260\n",
      "Bra                      260\n",
      "Briefs                   260\n",
      "Caps                     260\n",
      "Casual Shoes             260\n",
      "Clutches                 260\n",
      "Deodorant                260\n",
      "Dresses                  260\n",
      "Earrings                 260\n",
      "Flats                    260\n",
      "Flip Flops               260\n",
      "Formal Shoes             260\n",
      "Handbags                 260\n",
      "Heels                    260\n",
      "Jeans                    260\n",
      "Kurtas                   260\n",
      "Lipstick                 260\n",
      "Nail Polish              260\n",
      "Perfume and Body Mist    260\n",
      "Sandals                  260\n",
      "Sarees                   260\n",
      "Shirts                   260\n",
      "Shorts                   260\n",
      "Socks                    260\n",
      "Sports Shoes             260\n",
      "Sunglasses               260\n",
      "Sweaters                 260\n",
      "Sweatshirts              260\n",
      "Ties                     260\n",
      "Tops                     260\n",
      "Track Pants              260\n",
      "Trousers                 260\n",
      "Tshirts                  260\n",
      "Wallets                  260\n",
      "Watches                  260\n",
      "Name: count, dtype: int64\n",
      "baseColour\n",
      "Black                2176\n",
      "Blue                  968\n",
      "Brown                 897\n",
      "White                 814\n",
      "Grey                  614\n",
      "Red                   542\n",
      "Pink                  421\n",
      "Navy Blue             410\n",
      "Green                 358\n",
      "Purple                355\n",
      "Silver                277\n",
      "Beige                 191\n",
      "Gold                  176\n",
      "Maroon                166\n",
      "Yellow                114\n",
      "Orange                 94\n",
      "Multi                  90\n",
      "Olive                  84\n",
      "Cream                  81\n",
      "Charcoal               53\n",
      "Lavender               45\n",
      "Peach                  43\n",
      "Magenta                36\n",
      "Off White              32\n",
      "Khaki                  31\n",
      "Bronze                 28\n",
      "Steel                  28\n",
      "Grey Melange           25\n",
      "Tan                    23\n",
      "Copper                 23\n",
      "Teal                   22\n",
      "Mustard                21\n",
      "Skin                   17\n",
      "Rust                   16\n",
      "Turquoise Blue         13\n",
      "Metallic               13\n",
      "Mauve                  12\n",
      "Burgundy               11\n",
      "Rose                   10\n",
      "Nude                    9\n",
      "Sea Green               6\n",
      "Coffee Brown            5\n",
      "Mushroom Brown          2\n",
      "Lime Green              1\n",
      "Fluorescent Green       1\n",
      "Name: count, dtype: int64\n",
      "season\n",
      "Summer    4136\n",
      "Fall      2374\n",
      "Winter    1691\n",
      "Spring    1154\n",
      "Name: count, dtype: int64\n",
      "year\n",
      "2012.0    3475\n",
      "2011.0    2402\n",
      "2017.0    1192\n",
      "2016.0    1051\n",
      "2015.0     611\n",
      "2013.0     291\n",
      "2010.0     142\n",
      "2018.0      96\n",
      "2014.0      82\n",
      "2019.0      11\n",
      "2009.0       5\n",
      "2008.0       2\n",
      "Name: count, dtype: int64\n",
      "usage\n",
      "Casual          7146\n",
      "Sports           765\n",
      "Formal           705\n",
      "Ethnic           620\n",
      "Party             13\n",
      "Smart Casual      11\n",
      "Travel             3\n",
      "Name: count, dtype: int64\n",
      "productDisplayName\n",
      "Lucera Women Silver Earrings                      47\n",
      "Fabindia Women Anusuya Silver Earrings            21\n",
      "FNF Multi Coloured Printed Sari                   20\n",
      "Park Avenue Men Blue Tie                          16\n",
      "FNF Multi Coloured Sari                           16\n",
      "                                                  ..\n",
      "Bulchee Women Purple Handbag                       1\n",
      "Fossil Women Multi Coloured Jules Tote Handbag     1\n",
      "Rocky S Women Brown Handbag                        1\n",
      "Lino Perros Women Solid Olive Handbag              1\n",
      "Baggit Blue Printed Tote Bag                       1\n",
      "Name: count, Length: 7574, dtype: int64\n"
     ]
    }
   ],
   "source": [
    "for col in workingdf.columns:\n",
    "    print(workingdf[col].value_counts())"
   ]
  },
  {
   "cell_type": "code",
   "execution_count": 21,
   "metadata": {},
   "outputs": [],
   "source": [
    "workingdf['id'].to_csv('../data/imgs.csv', header= False, index=False)"
   ]
  }
 ],
 "metadata": {
  "kernelspec": {
   "display_name": "imsim",
   "language": "python",
   "name": "python3"
  },
  "language_info": {
   "codemirror_mode": {
    "name": "ipython",
    "version": 3
   },
   "file_extension": ".py",
   "mimetype": "text/x-python",
   "name": "python",
   "nbconvert_exporter": "python",
   "pygments_lexer": "ipython3",
   "version": "3.10.12"
  }
 },
 "nbformat": 4,
 "nbformat_minor": 2
}
